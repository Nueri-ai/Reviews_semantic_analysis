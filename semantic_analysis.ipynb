{
  "cells": [
    {
      "cell_type": "code",
      "execution_count": null,
      "metadata": {
        "colab": {
          "base_uri": "https://localhost:8080/"
        },
        "id": "aW6NKoDWMhhu",
        "outputId": "25bd3bda-0a56-4b58-db09-745b64626457"
      },
      "outputs": [
        {
          "name": "stdout",
          "output_type": "stream",
          "text": [
            "\u001b[?25l   \u001b[90m━━━━━━━━━━━━━━━━━━━━━━━━━━━━━━━━━━━━━━━━\u001b[0m \u001b[32m0.0/129.1 kB\u001b[0m \u001b[31m?\u001b[0m eta \u001b[36m-:--:--\u001b[0m\r\u001b[2K   \u001b[91m━━━━━━━━━━━━━━━━━━━━━━━━━━━━━━━━━━━━━━\u001b[0m\u001b[90m╺\u001b[0m\u001b[90m━\u001b[0m \u001b[32m122.9/129.1 kB\u001b[0m \u001b[31m3.6 MB/s\u001b[0m eta \u001b[36m0:00:01\u001b[0m\r\u001b[2K   \u001b[90m━━━━━━━━━━━━━━━━━━━━━━━━━━━━━━━━━━━━━━━━\u001b[0m \u001b[32m129.1/129.1 kB\u001b[0m \u001b[31m2.9 MB/s\u001b[0m eta \u001b[36m0:00:00\u001b[0m\n",
            "\u001b[?25h"
          ]
        }
      ],
      "source": [
        "!pip install keras-tuner -q  # for Bayesian optimisation"
      ]
    },
    {
      "cell_type": "code",
      "execution_count": null,
      "metadata": {
        "id": "-kIPIcGJkgQA"
      },
      "outputs": [],
      "source": [
        "import pandas as pd\n",
        "import requests, pickle\n",
        "import re\n",
        "import tensorflow as tf\n",
        "import numpy as np\n",
        "import matplotlib.pyplot as plt\n",
        "import keras_tuner as kt"
      ]
    },
    {
      "cell_type": "code",
      "execution_count": null,
      "metadata": {
        "id": "gUt5-fYdBY6P"
      },
      "outputs": [],
      "source": [
        "from tensorflow import keras\n",
        "from collections import Counter\n",
        "from tensorflow.keras.metrics import RootMeanSquaredError\n",
        "from sklearn.model_selection import train_test_split\n",
        "from sklearn.metrics import mean_squared_error, accuracy_score\n",
        "from keras.preprocessing.sequence import pad_sequences\n",
        "from tensorflow.keras.preprocessing.text import one_hot\n",
        "from tensorflow.keras.optimizers import Adam\n",
        "from tensorflow.keras.callbacks import EarlyStopping\n",
        "from keras.models import Model, Sequential\n",
        "from tensorflow.keras.layers import Activation, Dropout, Dense\n",
        "from keras.layers import Flatten, GlobalMaxPooling1D, Embedding, Conv1D, LSTM, Input\n",
        "from sklearn.metrics import confusion_matrix, classification_report"
      ]
    },
    {
      "cell_type": "markdown",
      "metadata": {
        "id": "rBNavV5VqiQY"
      },
      "source": [
        "## Input\n",
        "Data loading and classical text preprocessing: lowering, tokenisation, labels mapping; Splitting to train/test sets and building a vocabulary"
      ]
    },
    {
      "cell_type": "code",
      "execution_count": null,
      "metadata": {
        "colab": {
          "base_uri": "https://localhost:8080/",
          "height": 625
        },
        "id": "QHZ-Fd3HnwLL",
        "outputId": "df48e39e-d2aa-4cba-a979-cca05619ce4c"
      },
      "outputs": [
        {
          "data": {
            "application/vnd.google.colaboratory.intrinsic+json": {
              "summary": "{\n  \"name\": \"df\",\n  \"rows\": 13772,\n  \"fields\": [\n    {\n      \"column\": \"Hotel_Address\",\n      \"properties\": {\n        \"dtype\": \"category\",\n        \"num_unique_values\": 1367,\n        \"samples\": [\n          \"Avenida Avenida Diagonal 201 Sant Mart 08018 Barcelona Spain\",\n          \"Singerstra Singerstra e 3 01 Innere Stadt 1010 Vienna Austria\",\n          \"14 14 16 Craven Hill Lancaster Gate Westminster Borough London W2 3DU UK\"\n        ],\n        \"semantic_type\": \"\",\n        \"description\": \"\"\n      }\n    },\n    {\n      \"column\": \"Review_Date\",\n      \"properties\": {\n        \"dtype\": \"object\",\n        \"num_unique_values\": 730,\n        \"samples\": [\n          \"4/26/2017\",\n          \"11/11/2016\",\n          \"5/20/2016\"\n        ],\n        \"semantic_type\": \"\",\n        \"description\": \"\"\n      }\n    },\n    {\n      \"column\": \"Average_Score\",\n      \"properties\": {\n        \"dtype\": \"number\",\n        \"std\": 0.5828092400191714,\n        \"min\": 5.2,\n        \"max\": 9.6,\n        \"num_unique_values\": 33,\n        \"samples\": [\n          5.2,\n          8.8,\n          6.8\n        ],\n        \"semantic_type\": \"\",\n        \"description\": \"\"\n      }\n    },\n    {\n      \"column\": \"Hotel_Name\",\n      \"properties\": {\n        \"dtype\": \"category\",\n        \"num_unique_values\": 1366,\n        \"samples\": [\n          \"The Guesthouse Vienna\",\n          \"Chambiges Elys es\",\n          \"La Suite West Hyde Park\"\n        ],\n        \"semantic_type\": \"\",\n        \"description\": \"\"\n      }\n    },\n    {\n      \"column\": \"Reviewer_Nationality\",\n      \"properties\": {\n        \"dtype\": \"category\",\n        \"num_unique_values\": 148,\n        \"samples\": [\n          \" Moldova \",\n          \" Jersey \",\n          \" Rwanda \"\n        ],\n        \"semantic_type\": \"\",\n        \"description\": \"\"\n      }\n    },\n    {\n      \"column\": \"Hotel_number_reviews\",\n      \"properties\": {\n        \"dtype\": \"number\",\n        \"std\": 2388,\n        \"min\": 43,\n        \"max\": 16670,\n        \"num_unique_values\": 1085,\n        \"samples\": [\n          1744,\n          1018,\n          851\n        ],\n        \"semantic_type\": \"\",\n        \"description\": \"\"\n      }\n    },\n    {\n      \"column\": \"Reviewer_number_reviews\",\n      \"properties\": {\n        \"dtype\": \"number\",\n        \"std\": 10,\n        \"min\": 1,\n        \"max\": 211,\n        \"num_unique_values\": 94,\n        \"samples\": [\n          31,\n          17,\n          56\n        ],\n        \"semantic_type\": \"\",\n        \"description\": \"\"\n      }\n    },\n    {\n      \"column\": \"Review_Score\",\n      \"properties\": {\n        \"dtype\": \"number\",\n        \"std\": 2.059654194003901,\n        \"min\": 2.5,\n        \"max\": 10.0,\n        \"num_unique_values\": 34,\n        \"samples\": [\n          5.5,\n          6.9,\n          7.5\n        ],\n        \"semantic_type\": \"\",\n        \"description\": \"\"\n      }\n    },\n    {\n      \"column\": \"Review\",\n      \"properties\": {\n        \"dtype\": \"string\",\n        \"num_unique_values\": 13076,\n        \"samples\": [\n          \" Clean smart\",\n          \" nothing great location\",\n          \" The design of the room the comfort\"\n        ],\n        \"semantic_type\": \"\",\n        \"description\": \"\"\n      }\n    },\n    {\n      \"column\": \"Review_Type\",\n      \"properties\": {\n        \"dtype\": \"category\",\n        \"num_unique_values\": 2,\n        \"samples\": [\n          \"Good_review\",\n          \"Bad_review\"\n        ],\n        \"semantic_type\": \"\",\n        \"description\": \"\"\n      }\n    }\n  ]\n}",
              "type": "dataframe",
              "variable_name": "df"
            },
            "text/html": [
              "\n",
              "  <div id=\"df-2420d00e-c939-4a5f-a262-571d7e239e95\" class=\"colab-df-container\">\n",
              "    <div>\n",
              "<style scoped>\n",
              "    .dataframe tbody tr th:only-of-type {\n",
              "        vertical-align: middle;\n",
              "    }\n",
              "\n",
              "    .dataframe tbody tr th {\n",
              "        vertical-align: top;\n",
              "    }\n",
              "\n",
              "    .dataframe thead th {\n",
              "        text-align: right;\n",
              "    }\n",
              "</style>\n",
              "<table border=\"1\" class=\"dataframe\">\n",
              "  <thead>\n",
              "    <tr style=\"text-align: right;\">\n",
              "      <th></th>\n",
              "      <th>Hotel_Address</th>\n",
              "      <th>Review_Date</th>\n",
              "      <th>Average_Score</th>\n",
              "      <th>Hotel_Name</th>\n",
              "      <th>Reviewer_Nationality</th>\n",
              "      <th>Hotel_number_reviews</th>\n",
              "      <th>Reviewer_number_reviews</th>\n",
              "      <th>Review_Score</th>\n",
              "      <th>Review</th>\n",
              "      <th>Review_Type</th>\n",
              "    </tr>\n",
              "  </thead>\n",
              "  <tbody>\n",
              "    <tr>\n",
              "      <th>0</th>\n",
              "      <td>Scarsdale Scarsdale Place Kensington Kensingto...</td>\n",
              "      <td>5/2/2017</td>\n",
              "      <td>8.1</td>\n",
              "      <td>Copthorne Tara Hotel London Kensington</td>\n",
              "      <td>United Kingdom</td>\n",
              "      <td>7105</td>\n",
              "      <td>2</td>\n",
              "      <td>6.7</td>\n",
              "      <td>Expensive room rate that didn t include parki...</td>\n",
              "      <td>Bad_review</td>\n",
              "    </tr>\n",
              "    <tr>\n",
              "      <th>1</th>\n",
              "      <td>53 53 59 Kilburn High Road Maida Vale London C...</td>\n",
              "      <td>8/4/2016</td>\n",
              "      <td>7.1</td>\n",
              "      <td>BEST WESTERN Maitrise Hotel Maida Vale</td>\n",
              "      <td>United Kingdom</td>\n",
              "      <td>1877</td>\n",
              "      <td>8</td>\n",
              "      <td>5.8</td>\n",
              "      <td>Bedroom in the basement No windows Very small...</td>\n",
              "      <td>Bad_review</td>\n",
              "    </tr>\n",
              "    <tr>\n",
              "      <th>2</th>\n",
              "      <td>Pelai Pelai 28 Ciutat Vella 08002 Barcelona Spain</td>\n",
              "      <td>11/17/2016</td>\n",
              "      <td>8.6</td>\n",
              "      <td>Catalonia Ramblas 4 Sup</td>\n",
              "      <td>United Kingdom</td>\n",
              "      <td>4276</td>\n",
              "      <td>2</td>\n",
              "      <td>6.3</td>\n",
              "      <td>Room ready for a makeover Location</td>\n",
              "      <td>Bad_review</td>\n",
              "    </tr>\n",
              "    <tr>\n",
              "      <th>3</th>\n",
              "      <td>3 3 Place du G n ral Koenig 17th arr 75017 Par...</td>\n",
              "      <td>2/4/2016</td>\n",
              "      <td>7.1</td>\n",
              "      <td>Hyatt Regency Paris Etoile</td>\n",
              "      <td>United Kingdom</td>\n",
              "      <td>3973</td>\n",
              "      <td>3</td>\n",
              "      <td>5.8</td>\n",
              "      <td>Firstly the lady at the check in desk was qui...</td>\n",
              "      <td>Bad_review</td>\n",
              "    </tr>\n",
              "    <tr>\n",
              "      <th>4</th>\n",
              "      <td>Epping Epping Forest 30 Oak Hill London IG8 9N...</td>\n",
              "      <td>7/27/2016</td>\n",
              "      <td>7.5</td>\n",
              "      <td>Best Western PLUS Epping Forest</td>\n",
              "      <td>United Kingdom</td>\n",
              "      <td>587</td>\n",
              "      <td>7</td>\n",
              "      <td>3.3</td>\n",
              "      <td>Not being able to park my vehicle due to the ...</td>\n",
              "      <td>Bad_review</td>\n",
              "    </tr>\n",
              "  </tbody>\n",
              "</table>\n",
              "</div>\n",
              "    <div class=\"colab-df-buttons\">\n",
              "\n",
              "  <div class=\"colab-df-container\">\n",
              "    <button class=\"colab-df-convert\" onclick=\"convertToInteractive('df-2420d00e-c939-4a5f-a262-571d7e239e95')\"\n",
              "            title=\"Convert this dataframe to an interactive table.\"\n",
              "            style=\"display:none;\">\n",
              "\n",
              "  <svg xmlns=\"http://www.w3.org/2000/svg\" height=\"24px\" viewBox=\"0 -960 960 960\">\n",
              "    <path d=\"M120-120v-720h720v720H120Zm60-500h600v-160H180v160Zm220 220h160v-160H400v160Zm0 220h160v-160H400v160ZM180-400h160v-160H180v160Zm440 0h160v-160H620v160ZM180-180h160v-160H180v160Zm440 0h160v-160H620v160Z\"/>\n",
              "  </svg>\n",
              "    </button>\n",
              "\n",
              "  <style>\n",
              "    .colab-df-container {\n",
              "      display:flex;\n",
              "      gap: 12px;\n",
              "    }\n",
              "\n",
              "    .colab-df-convert {\n",
              "      background-color: #E8F0FE;\n",
              "      border: none;\n",
              "      border-radius: 50%;\n",
              "      cursor: pointer;\n",
              "      display: none;\n",
              "      fill: #1967D2;\n",
              "      height: 32px;\n",
              "      padding: 0 0 0 0;\n",
              "      width: 32px;\n",
              "    }\n",
              "\n",
              "    .colab-df-convert:hover {\n",
              "      background-color: #E2EBFA;\n",
              "      box-shadow: 0px 1px 2px rgba(60, 64, 67, 0.3), 0px 1px 3px 1px rgba(60, 64, 67, 0.15);\n",
              "      fill: #174EA6;\n",
              "    }\n",
              "\n",
              "    .colab-df-buttons div {\n",
              "      margin-bottom: 4px;\n",
              "    }\n",
              "\n",
              "    [theme=dark] .colab-df-convert {\n",
              "      background-color: #3B4455;\n",
              "      fill: #D2E3FC;\n",
              "    }\n",
              "\n",
              "    [theme=dark] .colab-df-convert:hover {\n",
              "      background-color: #434B5C;\n",
              "      box-shadow: 0px 1px 3px 1px rgba(0, 0, 0, 0.15);\n",
              "      filter: drop-shadow(0px 1px 2px rgba(0, 0, 0, 0.3));\n",
              "      fill: #FFFFFF;\n",
              "    }\n",
              "  </style>\n",
              "\n",
              "    <script>\n",
              "      const buttonEl =\n",
              "        document.querySelector('#df-2420d00e-c939-4a5f-a262-571d7e239e95 button.colab-df-convert');\n",
              "      buttonEl.style.display =\n",
              "        google.colab.kernel.accessAllowed ? 'block' : 'none';\n",
              "\n",
              "      async function convertToInteractive(key) {\n",
              "        const element = document.querySelector('#df-2420d00e-c939-4a5f-a262-571d7e239e95');\n",
              "        const dataTable =\n",
              "          await google.colab.kernel.invokeFunction('convertToInteractive',\n",
              "                                                    [key], {});\n",
              "        if (!dataTable) return;\n",
              "\n",
              "        const docLinkHtml = 'Like what you see? Visit the ' +\n",
              "          '<a target=\"_blank\" href=https://colab.research.google.com/notebooks/data_table.ipynb>data table notebook</a>'\n",
              "          + ' to learn more about interactive tables.';\n",
              "        element.innerHTML = '';\n",
              "        dataTable['output_type'] = 'display_data';\n",
              "        await google.colab.output.renderOutput(dataTable, element);\n",
              "        const docLink = document.createElement('div');\n",
              "        docLink.innerHTML = docLinkHtml;\n",
              "        element.appendChild(docLink);\n",
              "      }\n",
              "    </script>\n",
              "  </div>\n",
              "\n",
              "\n",
              "    <div id=\"df-d03b2045-4216-4205-b86c-07e257796bf8\">\n",
              "      <button class=\"colab-df-quickchart\" onclick=\"quickchart('df-d03b2045-4216-4205-b86c-07e257796bf8')\"\n",
              "                title=\"Suggest charts\"\n",
              "                style=\"display:none;\">\n",
              "\n",
              "<svg xmlns=\"http://www.w3.org/2000/svg\" height=\"24px\"viewBox=\"0 0 24 24\"\n",
              "     width=\"24px\">\n",
              "    <g>\n",
              "        <path d=\"M19 3H5c-1.1 0-2 .9-2 2v14c0 1.1.9 2 2 2h14c1.1 0 2-.9 2-2V5c0-1.1-.9-2-2-2zM9 17H7v-7h2v7zm4 0h-2V7h2v10zm4 0h-2v-4h2v4z\"/>\n",
              "    </g>\n",
              "</svg>\n",
              "      </button>\n",
              "\n",
              "<style>\n",
              "  .colab-df-quickchart {\n",
              "      --bg-color: #E8F0FE;\n",
              "      --fill-color: #1967D2;\n",
              "      --hover-bg-color: #E2EBFA;\n",
              "      --hover-fill-color: #174EA6;\n",
              "      --disabled-fill-color: #AAA;\n",
              "      --disabled-bg-color: #DDD;\n",
              "  }\n",
              "\n",
              "  [theme=dark] .colab-df-quickchart {\n",
              "      --bg-color: #3B4455;\n",
              "      --fill-color: #D2E3FC;\n",
              "      --hover-bg-color: #434B5C;\n",
              "      --hover-fill-color: #FFFFFF;\n",
              "      --disabled-bg-color: #3B4455;\n",
              "      --disabled-fill-color: #666;\n",
              "  }\n",
              "\n",
              "  .colab-df-quickchart {\n",
              "    background-color: var(--bg-color);\n",
              "    border: none;\n",
              "    border-radius: 50%;\n",
              "    cursor: pointer;\n",
              "    display: none;\n",
              "    fill: var(--fill-color);\n",
              "    height: 32px;\n",
              "    padding: 0;\n",
              "    width: 32px;\n",
              "  }\n",
              "\n",
              "  .colab-df-quickchart:hover {\n",
              "    background-color: var(--hover-bg-color);\n",
              "    box-shadow: 0 1px 2px rgba(60, 64, 67, 0.3), 0 1px 3px 1px rgba(60, 64, 67, 0.15);\n",
              "    fill: var(--button-hover-fill-color);\n",
              "  }\n",
              "\n",
              "  .colab-df-quickchart-complete:disabled,\n",
              "  .colab-df-quickchart-complete:disabled:hover {\n",
              "    background-color: var(--disabled-bg-color);\n",
              "    fill: var(--disabled-fill-color);\n",
              "    box-shadow: none;\n",
              "  }\n",
              "\n",
              "  .colab-df-spinner {\n",
              "    border: 2px solid var(--fill-color);\n",
              "    border-color: transparent;\n",
              "    border-bottom-color: var(--fill-color);\n",
              "    animation:\n",
              "      spin 1s steps(1) infinite;\n",
              "  }\n",
              "\n",
              "  @keyframes spin {\n",
              "    0% {\n",
              "      border-color: transparent;\n",
              "      border-bottom-color: var(--fill-color);\n",
              "      border-left-color: var(--fill-color);\n",
              "    }\n",
              "    20% {\n",
              "      border-color: transparent;\n",
              "      border-left-color: var(--fill-color);\n",
              "      border-top-color: var(--fill-color);\n",
              "    }\n",
              "    30% {\n",
              "      border-color: transparent;\n",
              "      border-left-color: var(--fill-color);\n",
              "      border-top-color: var(--fill-color);\n",
              "      border-right-color: var(--fill-color);\n",
              "    }\n",
              "    40% {\n",
              "      border-color: transparent;\n",
              "      border-right-color: var(--fill-color);\n",
              "      border-top-color: var(--fill-color);\n",
              "    }\n",
              "    60% {\n",
              "      border-color: transparent;\n",
              "      border-right-color: var(--fill-color);\n",
              "    }\n",
              "    80% {\n",
              "      border-color: transparent;\n",
              "      border-right-color: var(--fill-color);\n",
              "      border-bottom-color: var(--fill-color);\n",
              "    }\n",
              "    90% {\n",
              "      border-color: transparent;\n",
              "      border-bottom-color: var(--fill-color);\n",
              "    }\n",
              "  }\n",
              "</style>\n",
              "\n",
              "      <script>\n",
              "        async function quickchart(key) {\n",
              "          const quickchartButtonEl =\n",
              "            document.querySelector('#' + key + ' button');\n",
              "          quickchartButtonEl.disabled = true;  // To prevent multiple clicks.\n",
              "          quickchartButtonEl.classList.add('colab-df-spinner');\n",
              "          try {\n",
              "            const charts = await google.colab.kernel.invokeFunction(\n",
              "                'suggestCharts', [key], {});\n",
              "          } catch (error) {\n",
              "            console.error('Error during call to suggestCharts:', error);\n",
              "          }\n",
              "          quickchartButtonEl.classList.remove('colab-df-spinner');\n",
              "          quickchartButtonEl.classList.add('colab-df-quickchart-complete');\n",
              "        }\n",
              "        (() => {\n",
              "          let quickchartButtonEl =\n",
              "            document.querySelector('#df-d03b2045-4216-4205-b86c-07e257796bf8 button');\n",
              "          quickchartButtonEl.style.display =\n",
              "            google.colab.kernel.accessAllowed ? 'block' : 'none';\n",
              "        })();\n",
              "      </script>\n",
              "    </div>\n",
              "\n",
              "    </div>\n",
              "  </div>\n"
            ],
            "text/plain": [
              "                                       Hotel_Address Review_Date  \\\n",
              "0  Scarsdale Scarsdale Place Kensington Kensingto...    5/2/2017   \n",
              "1  53 53 59 Kilburn High Road Maida Vale London C...    8/4/2016   \n",
              "2  Pelai Pelai 28 Ciutat Vella 08002 Barcelona Spain  11/17/2016   \n",
              "3  3 3 Place du G n ral Koenig 17th arr 75017 Par...    2/4/2016   \n",
              "4  Epping Epping Forest 30 Oak Hill London IG8 9N...   7/27/2016   \n",
              "\n",
              "   Average_Score                              Hotel_Name Reviewer_Nationality  \\\n",
              "0            8.1  Copthorne Tara Hotel London Kensington      United Kingdom    \n",
              "1            7.1  BEST WESTERN Maitrise Hotel Maida Vale      United Kingdom    \n",
              "2            8.6                 Catalonia Ramblas 4 Sup      United Kingdom    \n",
              "3            7.1              Hyatt Regency Paris Etoile      United Kingdom    \n",
              "4            7.5         Best Western PLUS Epping Forest      United Kingdom    \n",
              "\n",
              "   Hotel_number_reviews  Reviewer_number_reviews  Review_Score  \\\n",
              "0                  7105                        2           6.7   \n",
              "1                  1877                        8           5.8   \n",
              "2                  4276                        2           6.3   \n",
              "3                  3973                        3           5.8   \n",
              "4                   587                        7           3.3   \n",
              "\n",
              "                                              Review Review_Type  \n",
              "0   Expensive room rate that didn t include parki...  Bad_review  \n",
              "1   Bedroom in the basement No windows Very small...  Bad_review  \n",
              "2                 Room ready for a makeover Location  Bad_review  \n",
              "3   Firstly the lady at the check in desk was qui...  Bad_review  \n",
              "4   Not being able to park my vehicle due to the ...  Bad_review  "
            ]
          },
          "execution_count": 4,
          "metadata": {},
          "output_type": "execute_result"
        }
      ],
      "source": [
        "df = pd.read_csv(\"https://frasca.di.unimi.it/MLDNN/input_data.csv\")\n",
        "df.head()"
      ]
    },
    {
      "cell_type": "code",
      "execution_count": null,
      "metadata": {
        "colab": {
          "base_uri": "https://localhost:8080/"
        },
        "id": "wpTuVhLuoJ7e",
        "outputId": "b9c983d2-d271-4e6c-9ea3-e5bfe9b44b7b"
      },
      "outputs": [
        {
          "name": "stderr",
          "output_type": "stream",
          "text": [
            "/tmp/ipython-input-5-2297313213.py:4: DeprecationWarning: numpy.core.numeric is deprecated and has been renamed to numpy._core.numeric. The numpy._core namespace contains private NumPy internals and its use is discouraged, as NumPy internals can change without warning in any release. In practice, most real-world usage of numpy.core is to access functionality in the public NumPy API. If that is the case, use the public NumPy API. If not, you are using NumPy internals. If you would still like to access an internal attribute, use numpy._core.numeric._frombuffer.\n",
            "  data = pickle.loads(r.content)\n"
          ]
        }
      ],
      "source": [
        "data_link = \"https://frasca.di.unimi.it/MLDNN/input_data.pkl\"\n",
        "r = requests.get(data_link)\n",
        "r.raise_for_status()\n",
        "data = pickle.loads(r.content)"
      ]
    },
    {
      "cell_type": "code",
      "execution_count": null,
      "metadata": {
        "colab": {
          "base_uri": "https://localhost:8080/"
        },
        "id": "2WQ-xFQjoJ-j",
        "outputId": "ded8a237-69ae-4f66-b4f5-9c95daf2d7c4"
      },
      "outputs": [
        {
          "data": {
            "text/plain": [
              "Index(['Hotel_Address', 'Review_Date', 'Average_Score', 'Hotel_Name',\n",
              "       'Reviewer_Nationality', 'Hotel_number_reviews',\n",
              "       'Reviewer_number_reviews', 'Review_Score', 'Review', 'Review_Type'],\n",
              "      dtype='object')"
            ]
          },
          "execution_count": 6,
          "metadata": {},
          "output_type": "execute_result"
        }
      ],
      "source": [
        "data.columns"
      ]
    },
    {
      "cell_type": "code",
      "execution_count": null,
      "metadata": {
        "colab": {
          "base_uri": "https://localhost:8080/",
          "height": 140
        },
        "id": "am92PqEfoKCx",
        "outputId": "3c1e9310-5a62-4274-8735-7065583105c7"
      },
      "outputs": [
        {
          "data": {
            "application/vnd.google.colaboratory.intrinsic+json": {
              "type": "string"
            },
            "text/plain": [
              "' We stayed in a room that was at the very end of the hotel this room was very very small from the door to the bed was 3 steps for me and im 5ft 2inch the bed The bed was very uncomfortable and gave both of us back ache there was no mattress topper which I was surprised has the mattress was very old when we took the sheet off im was just so shocked as when you walk in the hotel it looks amazing when you get to the room its a massive shock it was very disappointing The hotel lobby was beautiful it was very nice and welcoming '"
            ]
          },
          "execution_count": 7,
          "metadata": {},
          "output_type": "execute_result"
        }
      ],
      "source": [
        "df['Review'][17]"
      ]
    },
    {
      "cell_type": "code",
      "execution_count": null,
      "metadata": {
        "id": "nOdoZDIo_imT"
      },
      "outputs": [],
      "source": [
        "def preprocessing(sentence):\n",
        "  sentence = sentence.lower()\n",
        "  sentence = re.compile('[^a-zA-Z]').sub(' ', sentence) # replace non-letters with a whitespace\n",
        "  sentence = re.sub(r'\\s+[a-zA-Z]\\s+', ' ', sentence)  # remove single letters\n",
        "  sentence = re.sub(r'\\s+', ' ', sentence).strip()   # normalize whitespaces\n",
        "  sentence = sentence.split()  # tokenize\n",
        "  return sentence\n"
      ]
    },
    {
      "cell_type": "code",
      "execution_count": null,
      "metadata": {
        "id": "skwC2Fd2_ipl"
      },
      "outputs": [],
      "source": [
        "df['cleaned_text'] = df['Review'].apply(preprocessing)"
      ]
    },
    {
      "cell_type": "code",
      "execution_count": null,
      "metadata": {
        "colab": {
          "base_uri": "https://localhost:8080/",
          "height": 458
        },
        "id": "voQso_cpG3_R",
        "outputId": "2830c89f-af0f-4a7c-aa66-f1f7df147698"
      },
      "outputs": [
        {
          "data": {
            "text/html": [
              "<div>\n",
              "<style scoped>\n",
              "    .dataframe tbody tr th:only-of-type {\n",
              "        vertical-align: middle;\n",
              "    }\n",
              "\n",
              "    .dataframe tbody tr th {\n",
              "        vertical-align: top;\n",
              "    }\n",
              "\n",
              "    .dataframe thead th {\n",
              "        text-align: right;\n",
              "    }\n",
              "</style>\n",
              "<table border=\"1\" class=\"dataframe\">\n",
              "  <thead>\n",
              "    <tr style=\"text-align: right;\">\n",
              "      <th></th>\n",
              "      <th>cleaned_text</th>\n",
              "    </tr>\n",
              "  </thead>\n",
              "  <tbody>\n",
              "    <tr>\n",
              "      <th>0</th>\n",
              "      <td>[expensive, room, rate, that, didn, include, p...</td>\n",
              "    </tr>\n",
              "    <tr>\n",
              "      <th>1</th>\n",
              "      <td>[bedroom, in, the, basement, no, windows, very...</td>\n",
              "    </tr>\n",
              "    <tr>\n",
              "      <th>2</th>\n",
              "      <td>[room, ready, for, makeover, location]</td>\n",
              "    </tr>\n",
              "    <tr>\n",
              "      <th>3</th>\n",
              "      <td>[firstly, the, lady, at, the, check, in, desk,...</td>\n",
              "    </tr>\n",
              "    <tr>\n",
              "      <th>4</th>\n",
              "      <td>[not, being, able, to, park, my, vehicle, due,...</td>\n",
              "    </tr>\n",
              "    <tr>\n",
              "      <th>...</th>\n",
              "      <td>...</td>\n",
              "    </tr>\n",
              "    <tr>\n",
              "      <th>13767</th>\n",
              "      <td>[cleanliness, room, temperature, location, fac...</td>\n",
              "    </tr>\n",
              "    <tr>\n",
              "      <th>13768</th>\n",
              "      <td>[the, cost, of, the, parking, the, location]</td>\n",
              "    </tr>\n",
              "    <tr>\n",
              "      <th>13769</th>\n",
              "      <td>[the, staff, was, very, helpful]</td>\n",
              "    </tr>\n",
              "    <tr>\n",
              "      <th>13770</th>\n",
              "      <td>[tout, home, away, from, home]</td>\n",
              "    </tr>\n",
              "    <tr>\n",
              "      <th>13771</th>\n",
              "      <td>[there, is, no, business, center]</td>\n",
              "    </tr>\n",
              "  </tbody>\n",
              "</table>\n",
              "<p>13772 rows × 1 columns</p>\n",
              "</div><br><label><b>dtype:</b> object</label>"
            ],
            "text/plain": [
              "0        [expensive, room, rate, that, didn, include, p...\n",
              "1        [bedroom, in, the, basement, no, windows, very...\n",
              "2                   [room, ready, for, makeover, location]\n",
              "3        [firstly, the, lady, at, the, check, in, desk,...\n",
              "4        [not, being, able, to, park, my, vehicle, due,...\n",
              "                               ...                        \n",
              "13767    [cleanliness, room, temperature, location, fac...\n",
              "13768         [the, cost, of, the, parking, the, location]\n",
              "13769                     [the, staff, was, very, helpful]\n",
              "13770                       [tout, home, away, from, home]\n",
              "13771                    [there, is, no, business, center]\n",
              "Name: cleaned_text, Length: 13772, dtype: object"
            ]
          },
          "execution_count": 10,
          "metadata": {},
          "output_type": "execute_result"
        }
      ],
      "source": [
        "df['cleaned_text']"
      ]
    },
    {
      "cell_type": "code",
      "execution_count": null,
      "metadata": {
        "id": "BEBYkpYDg4Hq"
      },
      "outputs": [],
      "source": [
        "df['class']= df['Review_Type'].map({'Bad_review':0, 'Good_review':1}) # mapping review types to 2 corresponding integers"
      ]
    },
    {
      "cell_type": "code",
      "execution_count": null,
      "metadata": {
        "id": "7X1VRsDkDY6q"
      },
      "outputs": [],
      "source": [
        "train_df, test_df = train_test_split(df, test_size=0.2, random_state=101, shuffle=True)"
      ]
    },
    {
      "cell_type": "code",
      "execution_count": null,
      "metadata": {
        "colab": {
          "base_uri": "https://localhost:8080/",
          "height": 458
        },
        "id": "ezFW1UVldgNA",
        "outputId": "05edd8a0-2aa8-407e-de62-8df1a70727e5"
      },
      "outputs": [
        {
          "data": {
            "text/html": [
              "<div>\n",
              "<style scoped>\n",
              "    .dataframe tbody tr th:only-of-type {\n",
              "        vertical-align: middle;\n",
              "    }\n",
              "\n",
              "    .dataframe tbody tr th {\n",
              "        vertical-align: top;\n",
              "    }\n",
              "\n",
              "    .dataframe thead th {\n",
              "        text-align: right;\n",
              "    }\n",
              "</style>\n",
              "<table border=\"1\" class=\"dataframe\">\n",
              "  <thead>\n",
              "    <tr style=\"text-align: right;\">\n",
              "      <th></th>\n",
              "      <th>class</th>\n",
              "    </tr>\n",
              "  </thead>\n",
              "  <tbody>\n",
              "    <tr>\n",
              "      <th>2279</th>\n",
              "      <td>0</td>\n",
              "    </tr>\n",
              "    <tr>\n",
              "      <th>11812</th>\n",
              "      <td>1</td>\n",
              "    </tr>\n",
              "    <tr>\n",
              "      <th>12085</th>\n",
              "      <td>1</td>\n",
              "    </tr>\n",
              "    <tr>\n",
              "      <th>13580</th>\n",
              "      <td>1</td>\n",
              "    </tr>\n",
              "    <tr>\n",
              "      <th>1128</th>\n",
              "      <td>0</td>\n",
              "    </tr>\n",
              "    <tr>\n",
              "      <th>...</th>\n",
              "      <td>...</td>\n",
              "    </tr>\n",
              "    <tr>\n",
              "      <th>5695</th>\n",
              "      <td>0</td>\n",
              "    </tr>\n",
              "    <tr>\n",
              "      <th>8006</th>\n",
              "      <td>1</td>\n",
              "    </tr>\n",
              "    <tr>\n",
              "      <th>1361</th>\n",
              "      <td>0</td>\n",
              "    </tr>\n",
              "    <tr>\n",
              "      <th>1547</th>\n",
              "      <td>0</td>\n",
              "    </tr>\n",
              "    <tr>\n",
              "      <th>13151</th>\n",
              "      <td>1</td>\n",
              "    </tr>\n",
              "  </tbody>\n",
              "</table>\n",
              "<p>11017 rows × 1 columns</p>\n",
              "</div><br><label><b>dtype:</b> int64</label>"
            ],
            "text/plain": [
              "2279     0\n",
              "11812    1\n",
              "12085    1\n",
              "13580    1\n",
              "1128     0\n",
              "        ..\n",
              "5695     0\n",
              "8006     1\n",
              "1361     0\n",
              "1547     0\n",
              "13151    1\n",
              "Name: class, Length: 11017, dtype: int64"
            ]
          },
          "execution_count": 13,
          "metadata": {},
          "output_type": "execute_result"
        }
      ],
      "source": [
        "train_df['class']  # types in integer format"
      ]
    },
    {
      "cell_type": "markdown",
      "metadata": {
        "id": "ItCOGA4WXESf"
      },
      "source": [
        "Additional text preprocessing only on train set: vocabulary building, padding etc."
      ]
    },
    {
      "cell_type": "code",
      "execution_count": null,
      "metadata": {
        "colab": {
          "base_uri": "https://localhost:8080/",
          "height": 458
        },
        "id": "AY-nFJFQqt3_",
        "outputId": "1bb965ab-f69a-4580-9d97-071dea72559d"
      },
      "outputs": [
        {
          "data": {
            "text/html": [
              "<div>\n",
              "<style scoped>\n",
              "    .dataframe tbody tr th:only-of-type {\n",
              "        vertical-align: middle;\n",
              "    }\n",
              "\n",
              "    .dataframe tbody tr th {\n",
              "        vertical-align: top;\n",
              "    }\n",
              "\n",
              "    .dataframe thead th {\n",
              "        text-align: right;\n",
              "    }\n",
              "</style>\n",
              "<table border=\"1\" class=\"dataframe\">\n",
              "  <thead>\n",
              "    <tr style=\"text-align: right;\">\n",
              "      <th></th>\n",
              "      <th>cleaned_text</th>\n",
              "    </tr>\n",
              "  </thead>\n",
              "  <tbody>\n",
              "    <tr>\n",
              "      <th>2279</th>\n",
              "      <td>[wifi, was, bad, customer, service, reception,...</td>\n",
              "    </tr>\n",
              "    <tr>\n",
              "      <th>11812</th>\n",
              "      <td>[everything, is, ghost, great]</td>\n",
              "    </tr>\n",
              "    <tr>\n",
              "      <th>12085</th>\n",
              "      <td>[price, is, too, much, place, is, good, room, ...</td>\n",
              "    </tr>\n",
              "    <tr>\n",
              "      <th>13580</th>\n",
              "      <td>[fantastic, place, with, awesome, staff]</td>\n",
              "    </tr>\n",
              "    <tr>\n",
              "      <th>1128</th>\n",
              "      <td>[ring, operator, or, housekeeping, no, one, pi...</td>\n",
              "    </tr>\n",
              "    <tr>\n",
              "      <th>...</th>\n",
              "      <td>...</td>\n",
              "    </tr>\n",
              "    <tr>\n",
              "      <th>5695</th>\n",
              "      <td>[they, couldn, give, me, french, bed, when, as...</td>\n",
              "    </tr>\n",
              "    <tr>\n",
              "      <th>8006</th>\n",
              "      <td>[staff, and, suite, were, great]</td>\n",
              "    </tr>\n",
              "    <tr>\n",
              "      <th>1361</th>\n",
              "      <td>[the, room, was, tiny, the, bed, was, quite, p...</td>\n",
              "    </tr>\n",
              "    <tr>\n",
              "      <th>1547</th>\n",
              "      <td>[breakfast, cold]</td>\n",
              "    </tr>\n",
              "    <tr>\n",
              "      <th>13151</th>\n",
              "      <td>[nothing, proximity, to, city, center]</td>\n",
              "    </tr>\n",
              "  </tbody>\n",
              "</table>\n",
              "<p>11017 rows × 1 columns</p>\n",
              "</div><br><label><b>dtype:</b> object</label>"
            ],
            "text/plain": [
              "2279     [wifi, was, bad, customer, service, reception,...\n",
              "11812                       [everything, is, ghost, great]\n",
              "12085    [price, is, too, much, place, is, good, room, ...\n",
              "13580             [fantastic, place, with, awesome, staff]\n",
              "1128     [ring, operator, or, housekeeping, no, one, pi...\n",
              "                               ...                        \n",
              "5695     [they, couldn, give, me, french, bed, when, as...\n",
              "8006                      [staff, and, suite, were, great]\n",
              "1361     [the, room, was, tiny, the, bed, was, quite, p...\n",
              "1547                                     [breakfast, cold]\n",
              "13151               [nothing, proximity, to, city, center]\n",
              "Name: cleaned_text, Length: 11017, dtype: object"
            ]
          },
          "execution_count": 14,
          "metadata": {},
          "output_type": "execute_result"
        }
      ],
      "source": [
        "train_df['cleaned_text']"
      ]
    },
    {
      "cell_type": "markdown",
      "metadata": {
        "id": "YPN58sj4VqAS"
      },
      "source": [
        "Building a vocabulary for embedding"
      ]
    },
    {
      "cell_type": "code",
      "execution_count": null,
      "metadata": {
        "id": "Y1hbZnlYqt-t"
      },
      "outputs": [],
      "source": [
        "count = Counter(token for sequence in train_df['cleaned_text'] for token in sequence) # counting for most frequent words"
      ]
    },
    {
      "cell_type": "code",
      "execution_count": null,
      "metadata": {
        "id": "JU_wfSFJqghI"
      },
      "outputs": [],
      "source": [
        "vocab_sz= 10000 # limit the vocabulury size by top-10000 most frequent words\n",
        "frequent = count.most_common(vocab_sz)"
      ]
    },
    {
      "cell_type": "code",
      "execution_count": null,
      "metadata": {
        "id": "YdryfGBNNQTe"
      },
      "outputs": [],
      "source": [
        "word2idx = {word: idx+2 for idx, (word, _) in enumerate(frequent)}  # assigning unique IDs for each of the words\n",
        "word2idx['<PAD>'] = 0   # index for the space between words\n",
        "word2idx['<UNK>'] = 1  # index for unknown words"
      ]
    },
    {
      "cell_type": "code",
      "execution_count": null,
      "metadata": {
        "colab": {
          "base_uri": "https://localhost:8080/"
        },
        "id": "VAj4Ut2Gb_rF",
        "outputId": "067daa72-1176-4c9a-e448-7816c04d33a3"
      },
      "outputs": [
        {
          "name": "stdout",
          "output_type": "stream",
          "text": [
            "Vocabulary size +2: 10002\n",
            "Top 10 frequent: ['the', 'and', 'was', 'to', 'room', 'in', 'location', 'not', 'very', 'of']\n"
          ]
        }
      ],
      "source": [
        "print(f\"Vocabulary size +2: {len(word2idx)}\")\n",
        "print(\"Top 10 frequent:\", [w for w,_ in frequent[:10]])"
      ]
    },
    {
      "cell_type": "code",
      "execution_count": null,
      "metadata": {
        "id": "oONr7ulgNX7T"
      },
      "outputs": [],
      "source": [
        "max_len=400 # padding size"
      ]
    },
    {
      "cell_type": "code",
      "execution_count": null,
      "metadata": {
        "id": "p6EDiaP2NX-o"
      },
      "outputs": [],
      "source": [
        "def encode_sequences(token_lists, mapping, maxlen):\n",
        "    seqs = [[mapping.get(w, 1) for w in toks] for toks in token_lists]\n",
        "    return pad_sequences(seqs,  maxlen=maxlen,\n",
        "                         padding='post', truncating='post')\n",
        "\n",
        "X_train = encode_sequences(train_df['cleaned_text'], word2idx, max_len)\n",
        "X_test  = encode_sequences(test_df ['cleaned_text'], word2idx, max_len)"
      ]
    },
    {
      "cell_type": "code",
      "execution_count": null,
      "metadata": {
        "colab": {
          "base_uri": "https://localhost:8080/"
        },
        "id": "Eih1r9Ocdgcy",
        "outputId": "dc615fef-31a0-469a-ee04-36cc23c169c1"
      },
      "outputs": [
        {
          "data": {
            "text/plain": [
              "Index(['Hotel_Address', 'Review_Date', 'Average_Score', 'Hotel_Name',\n",
              "       'Reviewer_Nationality', 'Hotel_number_reviews',\n",
              "       'Reviewer_number_reviews', 'Review_Score', 'Review', 'Review_Type',\n",
              "       'cleaned_text', 'class'],\n",
              "      dtype='object')"
            ]
          },
          "execution_count": 21,
          "metadata": {},
          "output_type": "execute_result"
        }
      ],
      "source": [
        "train_df.columns"
      ]
    },
    {
      "cell_type": "markdown",
      "metadata": {
        "id": "PnI0gUXzHRGe"
      },
      "source": [
        "**CHANGE**: I turned 'Review_Score' into float32 type as Tensorflow expects this format and it accelerates the training speed"
      ]
    },
    {
      "cell_type": "code",
      "execution_count": null,
      "metadata": {
        "id": "mCAoLLYmUA8v"
      },
      "outputs": [],
      "source": [
        "# preprocessing regression labels, turning them into float32, for more effective work with tensorflow\n",
        "y_scores_train = train_df['Review_Score'].astype('float32').values\n",
        "y_scores_test  = test_df['Review_Score'].astype('float32').values"
      ]
    },
    {
      "cell_type": "markdown",
      "metadata": {
        "id": "YC31sHiIhNKJ"
      },
      "source": [
        "##MODEL CONFIGURATION, OUTPUT, LOSS\n",
        "Setting a model's architecture, losses and output layers; also training a model and performing a hyperparameters tuning by Bayesian optimisation"
      ]
    },
    {
      "cell_type": "code",
      "execution_count": null,
      "metadata": {
        "colab": {
          "base_uri": "https://localhost:8080/"
        },
        "id": "bYQAdJFghMkl",
        "outputId": "b3571a98-3cd8-4c3a-89e7-d2d5c4319022"
      },
      "outputs": [
        {
          "name": "stderr",
          "output_type": "stream",
          "text": [
            "/usr/local/lib/python3.11/dist-packages/keras/src/layers/core/embedding.py:90: UserWarning: Argument `input_length` is deprecated. Just remove it.\n",
            "  warnings.warn(\n"
          ]
        }
      ],
      "source": [
        "lr=0.001\n",
        "embedding_dim = 128\n",
        "max_len=400\n",
        "vocab_size = len(word2idx)\n",
        "inp = Input(shape=(max_len, ))\n",
        "x = Embedding(output_dim=embedding_dim, input_dim=vocab_size, input_length=max_len)(inp)\n",
        "x = LSTM(128, kernel_regularizer='l1', return_sequences=True)(x)\n",
        "x = Dropout(0.3)(x)\n",
        "x = LSTM(64)(x)\n",
        "x= Dense(64, activation='relu')(x)\n",
        "x= Dense(32, activation='relu')(x)\n",
        "x= Dense(16, activation='relu')(x)\n",
        "x1 = Dense(16, activation='relu')(x)\n",
        "\n",
        "# my outputs layers\n",
        "reg_res = Dense(1, activation='linear', name='reg_res')(x)\n",
        "class_res = Dense(1, activation='sigmoid', name='class_res')(x1)\n",
        "\n",
        "model = Model(inputs=inp, outputs=[reg_res, class_res])\n",
        "optimizer = Adam(learning_rate=lr)\n",
        "\n",
        "# setting different losses\n",
        "model.compile(optimizer=optimizer, loss={'reg_res':'mse', 'class_res':'binary_crossentropy'}, metrics={'class_res':'accuracy','reg_res':[RootMeanSquaredError(name='rmse')]})\n"
      ]
    },
    {
      "cell_type": "code",
      "execution_count": null,
      "metadata": {
        "colab": {
          "base_uri": "https://localhost:8080/",
          "height": 513
        },
        "id": "i6kfunAyiqSJ",
        "outputId": "03b2049b-8eb2-4401-a08f-b6a17bbc2b1a"
      },
      "outputs": [
        {
          "data": {
            "text/html": [
              "<pre style=\"white-space:pre;overflow-x:auto;line-height:normal;font-family:Menlo,'DejaVu Sans Mono',consolas,'Courier New',monospace\"><span style=\"font-weight: bold\">Model: \"functional\"</span>\n",
              "</pre>\n"
            ],
            "text/plain": [
              "\u001b[1mModel: \"functional\"\u001b[0m\n"
            ]
          },
          "metadata": {},
          "output_type": "display_data"
        },
        {
          "data": {
            "text/html": [
              "<pre style=\"white-space:pre;overflow-x:auto;line-height:normal;font-family:Menlo,'DejaVu Sans Mono',consolas,'Courier New',monospace\">┏━━━━━━━━━━━━━━━━━━━━━┳━━━━━━━━━━━━━━━━━━━┳━━━━━━━━━━━━┳━━━━━━━━━━━━━━━━━━━┓\n",
              "┃<span style=\"font-weight: bold\"> Layer (type)        </span>┃<span style=\"font-weight: bold\"> Output Shape      </span>┃<span style=\"font-weight: bold\">    Param # </span>┃<span style=\"font-weight: bold\"> Connected to      </span>┃\n",
              "┡━━━━━━━━━━━━━━━━━━━━━╇━━━━━━━━━━━━━━━━━━━╇━━━━━━━━━━━━╇━━━━━━━━━━━━━━━━━━━┩\n",
              "│ input_layer         │ (<span style=\"color: #00d7ff; text-decoration-color: #00d7ff\">None</span>, <span style=\"color: #00af00; text-decoration-color: #00af00\">400</span>)       │          <span style=\"color: #00af00; text-decoration-color: #00af00\">0</span> │ -                 │\n",
              "│ (<span style=\"color: #0087ff; text-decoration-color: #0087ff\">InputLayer</span>)        │                   │            │                   │\n",
              "├─────────────────────┼───────────────────┼────────────┼───────────────────┤\n",
              "│ embedding           │ (<span style=\"color: #00d7ff; text-decoration-color: #00d7ff\">None</span>, <span style=\"color: #00af00; text-decoration-color: #00af00\">400</span>, <span style=\"color: #00af00; text-decoration-color: #00af00\">128</span>)  │  <span style=\"color: #00af00; text-decoration-color: #00af00\">1,280,256</span> │ input_layer[<span style=\"color: #00af00; text-decoration-color: #00af00\">0</span>][<span style=\"color: #00af00; text-decoration-color: #00af00\">0</span>] │\n",
              "│ (<span style=\"color: #0087ff; text-decoration-color: #0087ff\">Embedding</span>)         │                   │            │                   │\n",
              "├─────────────────────┼───────────────────┼────────────┼───────────────────┤\n",
              "│ lstm (<span style=\"color: #0087ff; text-decoration-color: #0087ff\">LSTM</span>)         │ (<span style=\"color: #00d7ff; text-decoration-color: #00d7ff\">None</span>, <span style=\"color: #00af00; text-decoration-color: #00af00\">400</span>, <span style=\"color: #00af00; text-decoration-color: #00af00\">128</span>)  │    <span style=\"color: #00af00; text-decoration-color: #00af00\">131,584</span> │ embedding[<span style=\"color: #00af00; text-decoration-color: #00af00\">0</span>][<span style=\"color: #00af00; text-decoration-color: #00af00\">0</span>]   │\n",
              "├─────────────────────┼───────────────────┼────────────┼───────────────────┤\n",
              "│ dropout (<span style=\"color: #0087ff; text-decoration-color: #0087ff\">Dropout</span>)   │ (<span style=\"color: #00d7ff; text-decoration-color: #00d7ff\">None</span>, <span style=\"color: #00af00; text-decoration-color: #00af00\">400</span>, <span style=\"color: #00af00; text-decoration-color: #00af00\">128</span>)  │          <span style=\"color: #00af00; text-decoration-color: #00af00\">0</span> │ lstm[<span style=\"color: #00af00; text-decoration-color: #00af00\">0</span>][<span style=\"color: #00af00; text-decoration-color: #00af00\">0</span>]        │\n",
              "├─────────────────────┼───────────────────┼────────────┼───────────────────┤\n",
              "│ lstm_1 (<span style=\"color: #0087ff; text-decoration-color: #0087ff\">LSTM</span>)       │ (<span style=\"color: #00d7ff; text-decoration-color: #00d7ff\">None</span>, <span style=\"color: #00af00; text-decoration-color: #00af00\">64</span>)        │     <span style=\"color: #00af00; text-decoration-color: #00af00\">49,408</span> │ dropout[<span style=\"color: #00af00; text-decoration-color: #00af00\">0</span>][<span style=\"color: #00af00; text-decoration-color: #00af00\">0</span>]     │\n",
              "├─────────────────────┼───────────────────┼────────────┼───────────────────┤\n",
              "│ dense (<span style=\"color: #0087ff; text-decoration-color: #0087ff\">Dense</span>)       │ (<span style=\"color: #00d7ff; text-decoration-color: #00d7ff\">None</span>, <span style=\"color: #00af00; text-decoration-color: #00af00\">64</span>)        │      <span style=\"color: #00af00; text-decoration-color: #00af00\">4,160</span> │ lstm_1[<span style=\"color: #00af00; text-decoration-color: #00af00\">0</span>][<span style=\"color: #00af00; text-decoration-color: #00af00\">0</span>]      │\n",
              "├─────────────────────┼───────────────────┼────────────┼───────────────────┤\n",
              "│ dense_1 (<span style=\"color: #0087ff; text-decoration-color: #0087ff\">Dense</span>)     │ (<span style=\"color: #00d7ff; text-decoration-color: #00d7ff\">None</span>, <span style=\"color: #00af00; text-decoration-color: #00af00\">32</span>)        │      <span style=\"color: #00af00; text-decoration-color: #00af00\">2,080</span> │ dense[<span style=\"color: #00af00; text-decoration-color: #00af00\">0</span>][<span style=\"color: #00af00; text-decoration-color: #00af00\">0</span>]       │\n",
              "├─────────────────────┼───────────────────┼────────────┼───────────────────┤\n",
              "│ dense_2 (<span style=\"color: #0087ff; text-decoration-color: #0087ff\">Dense</span>)     │ (<span style=\"color: #00d7ff; text-decoration-color: #00d7ff\">None</span>, <span style=\"color: #00af00; text-decoration-color: #00af00\">16</span>)        │        <span style=\"color: #00af00; text-decoration-color: #00af00\">528</span> │ dense_1[<span style=\"color: #00af00; text-decoration-color: #00af00\">0</span>][<span style=\"color: #00af00; text-decoration-color: #00af00\">0</span>]     │\n",
              "├─────────────────────┼───────────────────┼────────────┼───────────────────┤\n",
              "│ dense_3 (<span style=\"color: #0087ff; text-decoration-color: #0087ff\">Dense</span>)     │ (<span style=\"color: #00d7ff; text-decoration-color: #00d7ff\">None</span>, <span style=\"color: #00af00; text-decoration-color: #00af00\">16</span>)        │        <span style=\"color: #00af00; text-decoration-color: #00af00\">272</span> │ dense_2[<span style=\"color: #00af00; text-decoration-color: #00af00\">0</span>][<span style=\"color: #00af00; text-decoration-color: #00af00\">0</span>]     │\n",
              "├─────────────────────┼───────────────────┼────────────┼───────────────────┤\n",
              "│ reg_res (<span style=\"color: #0087ff; text-decoration-color: #0087ff\">Dense</span>)     │ (<span style=\"color: #00d7ff; text-decoration-color: #00d7ff\">None</span>, <span style=\"color: #00af00; text-decoration-color: #00af00\">1</span>)         │         <span style=\"color: #00af00; text-decoration-color: #00af00\">17</span> │ dense_2[<span style=\"color: #00af00; text-decoration-color: #00af00\">0</span>][<span style=\"color: #00af00; text-decoration-color: #00af00\">0</span>]     │\n",
              "├─────────────────────┼───────────────────┼────────────┼───────────────────┤\n",
              "│ class_res (<span style=\"color: #0087ff; text-decoration-color: #0087ff\">Dense</span>)   │ (<span style=\"color: #00d7ff; text-decoration-color: #00d7ff\">None</span>, <span style=\"color: #00af00; text-decoration-color: #00af00\">1</span>)         │         <span style=\"color: #00af00; text-decoration-color: #00af00\">17</span> │ dense_3[<span style=\"color: #00af00; text-decoration-color: #00af00\">0</span>][<span style=\"color: #00af00; text-decoration-color: #00af00\">0</span>]     │\n",
              "└─────────────────────┴───────────────────┴────────────┴───────────────────┘\n",
              "</pre>\n"
            ],
            "text/plain": [
              "┏━━━━━━━━━━━━━━━━━━━━━┳━━━━━━━━━━━━━━━━━━━┳━━━━━━━━━━━━┳━━━━━━━━━━━━━━━━━━━┓\n",
              "┃\u001b[1m \u001b[0m\u001b[1mLayer (type)       \u001b[0m\u001b[1m \u001b[0m┃\u001b[1m \u001b[0m\u001b[1mOutput Shape     \u001b[0m\u001b[1m \u001b[0m┃\u001b[1m \u001b[0m\u001b[1m   Param #\u001b[0m\u001b[1m \u001b[0m┃\u001b[1m \u001b[0m\u001b[1mConnected to     \u001b[0m\u001b[1m \u001b[0m┃\n",
              "┡━━━━━━━━━━━━━━━━━━━━━╇━━━━━━━━━━━━━━━━━━━╇━━━━━━━━━━━━╇━━━━━━━━━━━━━━━━━━━┩\n",
              "│ input_layer         │ (\u001b[38;5;45mNone\u001b[0m, \u001b[38;5;34m400\u001b[0m)       │          \u001b[38;5;34m0\u001b[0m │ -                 │\n",
              "│ (\u001b[38;5;33mInputLayer\u001b[0m)        │                   │            │                   │\n",
              "├─────────────────────┼───────────────────┼────────────┼───────────────────┤\n",
              "│ embedding           │ (\u001b[38;5;45mNone\u001b[0m, \u001b[38;5;34m400\u001b[0m, \u001b[38;5;34m128\u001b[0m)  │  \u001b[38;5;34m1,280,256\u001b[0m │ input_layer[\u001b[38;5;34m0\u001b[0m][\u001b[38;5;34m0\u001b[0m] │\n",
              "│ (\u001b[38;5;33mEmbedding\u001b[0m)         │                   │            │                   │\n",
              "├─────────────────────┼───────────────────┼────────────┼───────────────────┤\n",
              "│ lstm (\u001b[38;5;33mLSTM\u001b[0m)         │ (\u001b[38;5;45mNone\u001b[0m, \u001b[38;5;34m400\u001b[0m, \u001b[38;5;34m128\u001b[0m)  │    \u001b[38;5;34m131,584\u001b[0m │ embedding[\u001b[38;5;34m0\u001b[0m][\u001b[38;5;34m0\u001b[0m]   │\n",
              "├─────────────────────┼───────────────────┼────────────┼───────────────────┤\n",
              "│ dropout (\u001b[38;5;33mDropout\u001b[0m)   │ (\u001b[38;5;45mNone\u001b[0m, \u001b[38;5;34m400\u001b[0m, \u001b[38;5;34m128\u001b[0m)  │          \u001b[38;5;34m0\u001b[0m │ lstm[\u001b[38;5;34m0\u001b[0m][\u001b[38;5;34m0\u001b[0m]        │\n",
              "├─────────────────────┼───────────────────┼────────────┼───────────────────┤\n",
              "│ lstm_1 (\u001b[38;5;33mLSTM\u001b[0m)       │ (\u001b[38;5;45mNone\u001b[0m, \u001b[38;5;34m64\u001b[0m)        │     \u001b[38;5;34m49,408\u001b[0m │ dropout[\u001b[38;5;34m0\u001b[0m][\u001b[38;5;34m0\u001b[0m]     │\n",
              "├─────────────────────┼───────────────────┼────────────┼───────────────────┤\n",
              "│ dense (\u001b[38;5;33mDense\u001b[0m)       │ (\u001b[38;5;45mNone\u001b[0m, \u001b[38;5;34m64\u001b[0m)        │      \u001b[38;5;34m4,160\u001b[0m │ lstm_1[\u001b[38;5;34m0\u001b[0m][\u001b[38;5;34m0\u001b[0m]      │\n",
              "├─────────────────────┼───────────────────┼────────────┼───────────────────┤\n",
              "│ dense_1 (\u001b[38;5;33mDense\u001b[0m)     │ (\u001b[38;5;45mNone\u001b[0m, \u001b[38;5;34m32\u001b[0m)        │      \u001b[38;5;34m2,080\u001b[0m │ dense[\u001b[38;5;34m0\u001b[0m][\u001b[38;5;34m0\u001b[0m]       │\n",
              "├─────────────────────┼───────────────────┼────────────┼───────────────────┤\n",
              "│ dense_2 (\u001b[38;5;33mDense\u001b[0m)     │ (\u001b[38;5;45mNone\u001b[0m, \u001b[38;5;34m16\u001b[0m)        │        \u001b[38;5;34m528\u001b[0m │ dense_1[\u001b[38;5;34m0\u001b[0m][\u001b[38;5;34m0\u001b[0m]     │\n",
              "├─────────────────────┼───────────────────┼────────────┼───────────────────┤\n",
              "│ dense_3 (\u001b[38;5;33mDense\u001b[0m)     │ (\u001b[38;5;45mNone\u001b[0m, \u001b[38;5;34m16\u001b[0m)        │        \u001b[38;5;34m272\u001b[0m │ dense_2[\u001b[38;5;34m0\u001b[0m][\u001b[38;5;34m0\u001b[0m]     │\n",
              "├─────────────────────┼───────────────────┼────────────┼───────────────────┤\n",
              "│ reg_res (\u001b[38;5;33mDense\u001b[0m)     │ (\u001b[38;5;45mNone\u001b[0m, \u001b[38;5;34m1\u001b[0m)         │         \u001b[38;5;34m17\u001b[0m │ dense_2[\u001b[38;5;34m0\u001b[0m][\u001b[38;5;34m0\u001b[0m]     │\n",
              "├─────────────────────┼───────────────────┼────────────┼───────────────────┤\n",
              "│ class_res (\u001b[38;5;33mDense\u001b[0m)   │ (\u001b[38;5;45mNone\u001b[0m, \u001b[38;5;34m1\u001b[0m)         │         \u001b[38;5;34m17\u001b[0m │ dense_3[\u001b[38;5;34m0\u001b[0m][\u001b[38;5;34m0\u001b[0m]     │\n",
              "└─────────────────────┴───────────────────┴────────────┴───────────────────┘\n"
            ]
          },
          "metadata": {},
          "output_type": "display_data"
        },
        {
          "data": {
            "text/html": [
              "<pre style=\"white-space:pre;overflow-x:auto;line-height:normal;font-family:Menlo,'DejaVu Sans Mono',consolas,'Courier New',monospace\"><span style=\"font-weight: bold\"> Total params: </span><span style=\"color: #00af00; text-decoration-color: #00af00\">1,468,322</span> (5.60 MB)\n",
              "</pre>\n"
            ],
            "text/plain": [
              "\u001b[1m Total params: \u001b[0m\u001b[38;5;34m1,468,322\u001b[0m (5.60 MB)\n"
            ]
          },
          "metadata": {},
          "output_type": "display_data"
        },
        {
          "data": {
            "text/html": [
              "<pre style=\"white-space:pre;overflow-x:auto;line-height:normal;font-family:Menlo,'DejaVu Sans Mono',consolas,'Courier New',monospace\"><span style=\"font-weight: bold\"> Trainable params: </span><span style=\"color: #00af00; text-decoration-color: #00af00\">1,468,322</span> (5.60 MB)\n",
              "</pre>\n"
            ],
            "text/plain": [
              "\u001b[1m Trainable params: \u001b[0m\u001b[38;5;34m1,468,322\u001b[0m (5.60 MB)\n"
            ]
          },
          "metadata": {},
          "output_type": "display_data"
        },
        {
          "data": {
            "text/html": [
              "<pre style=\"white-space:pre;overflow-x:auto;line-height:normal;font-family:Menlo,'DejaVu Sans Mono',consolas,'Courier New',monospace\"><span style=\"font-weight: bold\"> Non-trainable params: </span><span style=\"color: #00af00; text-decoration-color: #00af00\">0</span> (0.00 B)\n",
              "</pre>\n"
            ],
            "text/plain": [
              "\u001b[1m Non-trainable params: \u001b[0m\u001b[38;5;34m0\u001b[0m (0.00 B)\n"
            ]
          },
          "metadata": {},
          "output_type": "display_data"
        }
      ],
      "source": [
        "model.summary()"
      ]
    },
    {
      "cell_type": "markdown",
      "metadata": {
        "id": "GQ0CoUuBWL19"
      },
      "source": [
        "**CHANGE**: I added early stopping as my model was stuck in its accuracy after 20 epochs and there was no need to wait for all 50 epochs completion"
      ]
    },
    {
      "cell_type": "code",
      "execution_count": null,
      "metadata": {
        "colab": {
          "background_save": true,
          "base_uri": "https://localhost:8080/"
        },
        "id": "IcSUGQOHiqXI",
        "outputId": "3ed0d280-c1dc-433b-9029-e84587ca2ad5"
      },
      "outputs": [
        {
          "name": "stdout",
          "output_type": "stream",
          "text": [
            "Epoch 1/10\n",
            "\u001b[1m155/155\u001b[0m \u001b[32m━━━━━━━━━━━━━━━━━━━━\u001b[0m\u001b[37m\u001b[0m \u001b[1m224s\u001b[0m 1s/step - class_res_accuracy: 0.5032 - class_res_loss: 0.6976 - loss: 33.4372 - reg_res_loss: 15.5088 - reg_res_rmse: 3.7388 - val_class_res_accuracy: 0.5073 - val_class_res_loss: 0.6928 - val_loss: 5.5617 - val_reg_res_loss: 4.4081 - val_reg_res_rmse: 2.1041\n",
            "Epoch 2/10\n",
            "\u001b[1m155/155\u001b[0m \u001b[32m━━━━━━━━━━━━━━━━━━━━\u001b[0m\u001b[37m\u001b[0m \u001b[1m250s\u001b[0m 1s/step - class_res_accuracy: 0.4968 - class_res_loss: 0.6942 - loss: 5.1750 - reg_res_loss: 4.2293 - reg_res_rmse: 2.0565 - val_class_res_accuracy: 0.4927 - val_class_res_loss: 0.6964 - val_loss: 5.2906 - val_reg_res_loss: 4.5239 - val_reg_res_rmse: 2.1250\n",
            "Epoch 3/10\n",
            "\u001b[1m155/155\u001b[0m \u001b[32m━━━━━━━━━━━━━━━━━━━━\u001b[0m\u001b[37m\u001b[0m \u001b[1m199s\u001b[0m 1s/step - class_res_accuracy: 0.5014 - class_res_loss: 0.6946 - loss: 5.0051 - reg_res_loss: 4.2319 - reg_res_rmse: 2.0571 - val_class_res_accuracy: 0.5073 - val_class_res_loss: 0.6929 - val_loss: 5.2052 - val_reg_res_loss: 4.4125 - val_reg_res_rmse: 2.1058\n",
            "Epoch 4/10\n",
            "\u001b[1m155/155\u001b[0m \u001b[32m━━━━━━━━━━━━━━━━━━━━\u001b[0m\u001b[37m\u001b[0m \u001b[1m206s\u001b[0m 1s/step - class_res_accuracy: 0.4982 - class_res_loss: 0.6944 - loss: 4.9501 - reg_res_loss: 4.1780 - reg_res_rmse: 2.0439 - val_class_res_accuracy: 0.5073 - val_class_res_loss: 0.6937 - val_loss: 5.3055 - val_reg_res_loss: 4.5424 - val_reg_res_rmse: 2.1289\n",
            "Epoch 5/10\n",
            "\u001b[1m155/155\u001b[0m \u001b[32m━━━━━━━━━━━━━━━━━━━━\u001b[0m\u001b[37m\u001b[0m \u001b[1m201s\u001b[0m 1s/step - class_res_accuracy: 0.5217 - class_res_loss: 0.6931 - loss: 5.0511 - reg_res_loss: 4.2803 - reg_res_rmse: 2.0688 - val_class_res_accuracy: 0.4927 - val_class_res_loss: 0.6988 - val_loss: 5.2181 - val_reg_res_loss: 4.4409 - val_reg_res_rmse: 2.1081\n",
            "Epoch 6/10\n",
            "\u001b[1m155/155\u001b[0m \u001b[32m━━━━━━━━━━━━━━━━━━━━\u001b[0m\u001b[37m\u001b[0m \u001b[1m202s\u001b[0m 1s/step - class_res_accuracy: 0.5003 - class_res_loss: 0.6946 - loss: 4.9444 - reg_res_loss: 4.1723 - reg_res_rmse: 2.0424 - val_class_res_accuracy: 0.4927 - val_class_res_loss: 0.6945 - val_loss: 5.2062 - val_reg_res_loss: 4.4123 - val_reg_res_rmse: 2.1058\n",
            "Epoch 7/10\n",
            "\u001b[1m155/155\u001b[0m \u001b[32m━━━━━━━━━━━━━━━━━━━━\u001b[0m\u001b[37m\u001b[0m \u001b[1m204s\u001b[0m 1s/step - class_res_accuracy: 0.5083 - class_res_loss: 0.6944 - loss: 5.0103 - reg_res_loss: 4.2383 - reg_res_rmse: 2.0587 - val_class_res_accuracy: 0.4927 - val_class_res_loss: 0.6938 - val_loss: 5.2341 - val_reg_res_loss: 4.4338 - val_reg_res_rmse: 2.1125\n",
            "Epoch 8/10\n",
            "\u001b[1m155/155\u001b[0m \u001b[32m━━━━━━━━━━━━━━━━━━━━\u001b[0m\u001b[37m\u001b[0m \u001b[1m199s\u001b[0m 1s/step - class_res_accuracy: 0.4899 - class_res_loss: 0.6937 - loss: 4.9948 - reg_res_loss: 4.2239 - reg_res_rmse: 2.0551 - val_class_res_accuracy: 0.4927 - val_class_res_loss: 0.6948 - val_loss: 5.1932 - val_reg_res_loss: 4.4081 - val_reg_res_rmse: 2.1030\n",
            "Epoch 9/10\n",
            "\u001b[1m155/155\u001b[0m \u001b[32m━━━━━━━━━━━━━━━━━━━━\u001b[0m\u001b[37m\u001b[0m \u001b[1m200s\u001b[0m 1s/step - class_res_accuracy: 0.5090 - class_res_loss: 0.6934 - loss: 4.9267 - reg_res_loss: 4.1567 - reg_res_rmse: 2.0387 - val_class_res_accuracy: 0.5073 - val_class_res_loss: 0.6925 - val_loss: 5.2492 - val_reg_res_loss: 4.4829 - val_reg_res_rmse: 2.1165\n",
            "Epoch 10/10\n",
            "\u001b[1m155/155\u001b[0m \u001b[32m━━━━━━━━━━━━━━━━━━━━\u001b[0m\u001b[37m\u001b[0m \u001b[1m199s\u001b[0m 1s/step - class_res_accuracy: 0.4942 - class_res_loss: 0.6944 - loss: 4.9787 - reg_res_loss: 4.2077 - reg_res_rmse: 2.0511 - val_class_res_accuracy: 0.4927 - val_class_res_loss: 0.6938 - val_loss: 5.1978 - val_reg_res_loss: 4.4195 - val_reg_res_rmse: 2.1043\n",
            "Restoring model weights from the end of the best epoch: 8.\n"
          ]
        }
      ],
      "source": [
        "epochs=10\n",
        "early_stop = EarlyStopping(monitor='val_loss', patience=10, restore_best_weights=True, verbose=1)\n",
        "history = model.fit(epochs=epochs, x=X_train, y={'reg_res':y_scores_train, 'class_res':train_df['class']}, validation_split=0.1, batch_size=64, callbacks=[early_stop])"
      ]
    },
    {
      "cell_type": "markdown",
      "metadata": {
        "id": "p9iccKvhWhJa"
      },
      "source": [
        "Bayesian optimisation to find the best hyperparameters"
      ]
    },
    {
      "cell_type": "code",
      "execution_count": null,
      "metadata": {
        "colab": {
          "background_save": true
        },
        "id": "5eejJyOt2in_"
      },
      "outputs": [],
      "source": [
        "def build_model(hp):\n",
        "  embedding_dim = 128\n",
        "  max_len=400\n",
        "  vocab_sz = len(word2idx)\n",
        "  lr=1e-4\n",
        "  inp = Input(shape=(max_len, ))\n",
        "  x = Embedding(output_dim=embedding_dim, input_dim=vocab_sz, input_length=max_len)(inp)\n",
        "\n",
        "# tuning the number of neurons and weight regularizer choice in LSTM\n",
        "  hp_units = hp.Int('lstm_neurons', min_value=32, max_value=256, step=32)\n",
        "  hp_regularizer = hp.Choice('regularizer', values=['l1','l2'])\n",
        "  x = LSTM(hp_units, kernel_regularizer=hp_regularizer)(x)\n",
        "# tuning dropout rate\n",
        "  dp_rates = hp.Float('dropout_rate', min_value=0.1, max_value=0.6, step=0.1)\n",
        "  x = Dropout(dp_rates)(x)\n",
        "\n",
        "  reg_res = Dense(1, activation='linear', name='reg_res')(x)\n",
        "  class_res = Dense(1, activation='sigmoid', name='class_res')(x)\n",
        "\n",
        "  model = Model(inputs=inp, outputs=[reg_res, class_res])\n",
        "# tuning learning rate\n",
        "  lr_choice = hp.Choice('learning rate', values=[1e-2, 1e-3, 5e-4, 1e-4])\n",
        "  optimizer = Adam(learning_rate=lr_choice)\n",
        "  model.compile(optimizer=optimizer, loss={'reg_res':'mae', 'class_res':'binary_crossentropy'}, metrics={'class_res':'accuracy','reg_res':'mae'})\n",
        "\n",
        "  return model\n"
      ]
    },
    {
      "cell_type": "code",
      "execution_count": null,
      "metadata": {
        "colab": {
          "background_save": true
        },
        "id": "o-zffdie2irH"
      },
      "outputs": [],
      "source": [
        "tuner = kt.BayesianOptimization(build_model, objective='val_loss', max_trials=5, directory='bayesian', project_name='bayes_tuner')"
      ]
    },
    {
      "cell_type": "code",
      "execution_count": null,
      "metadata": {
        "colab": {
          "background_save": true
        },
        "id": "4Sx3g0B62iuT",
        "outputId": "cb4ab139-b155-4c6f-b88b-b9c0309563b8"
      },
      "outputs": [
        {
          "name": "stdout",
          "output_type": "stream",
          "text": [
            "Trial 1 Complete [00h 03m 17s]\n",
            "val_loss: 2.5163142681121826\n",
            "\n",
            "Best val_loss So Far: 2.5163142681121826\n",
            "Total elapsed time: 00h 03m 17s\n",
            "\n",
            "Search: Running Trial #2\n",
            "\n",
            "Value             |Best Value So Far |Hyperparameter\n",
            "256               |32                |lstm_neurons\n",
            "l1                |l2                |regularizer\n",
            "0.4               |0.5               |dropout_rate\n",
            "0.01              |0.0005            |learning rate\n",
            "\n",
            "Epoch 1/5\n",
            "\u001b[1m155/155\u001b[0m \u001b[32m━━━━━━━━━━━━━━━━━━━━\u001b[0m\u001b[37m\u001b[0m \u001b[1m281s\u001b[0m 2s/step - class_res_accuracy: 0.5082 - class_res_loss: 0.7326 - loss: 11.1937 - reg_res_loss: 2.1790 - reg_res_mae: 2.1790 - val_class_res_accuracy: 0.4927 - val_class_res_loss: 0.6945 - val_loss: 4.1748 - val_reg_res_loss: 1.8583 - val_reg_res_mae: 1.8507\n",
            "Epoch 2/5\n",
            "\u001b[1m155/155\u001b[0m \u001b[32m━━━━━━━━━━━━━━━━━━━━\u001b[0m\u001b[37m\u001b[0m \u001b[1m321s\u001b[0m 2s/step - class_res_accuracy: 0.5073 - class_res_loss: 0.7043 - loss: 4.2074 - reg_res_loss: 1.8718 - reg_res_mae: 1.8718 - val_class_res_accuracy: 0.5073 - val_class_res_loss: 0.6929 - val_loss: 4.1314 - val_reg_res_loss: 1.8040 - val_reg_res_mae: 1.8102\n",
            "Epoch 3/5\n",
            "\u001b[1m155/155\u001b[0m \u001b[32m━━━━━━━━━━━━━━━━━━━━\u001b[0m\u001b[37m\u001b[0m \u001b[1m322s\u001b[0m 2s/step - class_res_accuracy: 0.5009 - class_res_loss: 0.7015 - loss: 4.1794 - reg_res_loss: 1.8601 - reg_res_mae: 1.8601 - val_class_res_accuracy: 0.5073 - val_class_res_loss: 0.6924 - val_loss: 4.0903 - val_reg_res_loss: 1.8102 - val_reg_res_mae: 1.8125\n",
            "Epoch 4/5\n",
            "\u001b[1m155/155\u001b[0m \u001b[32m━━━━━━━━━━━━━━━━━━━━\u001b[0m\u001b[37m\u001b[0m \u001b[1m323s\u001b[0m 2s/step - class_res_accuracy: 0.4872 - class_res_loss: 0.7061 - loss: 4.1548 - reg_res_loss: 1.8418 - reg_res_mae: 1.8418 - val_class_res_accuracy: 0.4927 - val_class_res_loss: 0.6967 - val_loss: 4.1092 - val_reg_res_loss: 1.8207 - val_reg_res_mae: 1.8204\n",
            "Epoch 5/5\n",
            "\u001b[1m155/155\u001b[0m \u001b[32m━━━━━━━━━━━━━━━━━━━━\u001b[0m\u001b[37m\u001b[0m \u001b[1m320s\u001b[0m 2s/step - class_res_accuracy: 0.4930 - class_res_loss: 0.7070 - loss: 4.1737 - reg_res_loss: 1.8616 - reg_res_mae: 1.8616 - val_class_res_accuracy: 0.4927 - val_class_res_loss: 0.7166 - val_loss: 4.2169 - val_reg_res_loss: 1.9202 - val_reg_res_mae: 1.9065\n",
            "Restoring model weights from the end of the best epoch: 3.\n"
          ]
        }
      ],
      "source": [
        "tuner.search(X_train, {'reg_res':y_scores_train, 'class_res':train_df['class']}, batch_size=64, epochs=5, validation_split=0.1, callbacks=[early_stop])\n"
      ]
    },
    {
      "cell_type": "code",
      "execution_count": null,
      "metadata": {
        "id": "6zMLUvzCSUFu"
      },
      "outputs": [],
      "source": [
        "best_hp = tuner.get_best_hyperparameters()[0]\n",
        "best_model = tuner.get_best_models()[0]\n",
        "print(\"Best units:\",   best_hp.get('lstm_neurons'))\n",
        "print(\"Best dropout:\", best_hp.get('dropout_rate'))\n",
        "print(\"Best lr:\",      best_hp.get('learning rate'))"
      ]
    },
    {
      "cell_type": "markdown",
      "metadata": {
        "id": "h91mD07HOwjv"
      },
      "source": [
        "## MODEL EVALUATION\n",
        "Evaluation the model based on accuracy for review_type output and RSME for review_score; plotting accuracy, RSME and losses evolution epoch-by-epoch"
      ]
    },
    {
      "cell_type": "code",
      "execution_count": null,
      "metadata": {
        "id": "eWp2Hp1TiqbE"
      },
      "outputs": [],
      "source": [
        "model.evaluate(X_test, {'reg_res': y_scores_test, 'class_res': test_df['class']})"
      ]
    },
    {
      "cell_type": "code",
      "execution_count": null,
      "metadata": {
        "id": "4mo08ziO1vEk"
      },
      "outputs": [],
      "source": [
        "pred_score, pred_class = model.predict(X_test)"
      ]
    },
    {
      "cell_type": "code",
      "execution_count": null,
      "metadata": {
        "id": "FK6SKtqCiqdb"
      },
      "outputs": [],
      "source": [
        "# Regression RMSE\n",
        "mse = mean_squared_error(y_scores_test ,pred_score)\n",
        "rmse = np.sqrt(mse)\n",
        "rmse"
      ]
    },
    {
      "cell_type": "code",
      "execution_count": null,
      "metadata": {
        "id": "RuQirmCKhMoZ"
      },
      "outputs": [],
      "source": [
        "acc = accuracy_score(test_df['class'], pred_class.round())\n",
        "acc"
      ]
    },
    {
      "cell_type": "markdown",
      "metadata": {
        "id": "VwcVrAc7XuBf"
      },
      "source": [
        "Learning curves for 2 outputs: Review_score and Review_type"
      ]
    },
    {
      "cell_type": "code",
      "execution_count": null,
      "metadata": {
        "id": "pqY1SUCJXtE7"
      },
      "outputs": [],
      "source": [
        "# Accuracy and RMSE\n",
        "train_mse = history.history['reg_res_loss']\n",
        "train_rmse = np.sqrt(train_mse)\n",
        "val_mse = history.history['val_reg_res_loss']\n",
        "val_rmse = np.sqrt(val_mse)\n",
        "\n",
        "plt.figure(figsize=(10, 4))\n",
        "plt.plot(train_rmse,  label='train RMSE')\n",
        "plt.plot(val_rmse,label='val RMSE')\n",
        "plt.title('RMSE for regression')\n",
        "plt.xlabel('Epochs'); plt.ylabel('RMSE')\n",
        "plt.legend(); plt.show()\n",
        "\n",
        "plt.figure(figsize=(10, 4))\n",
        "plt.plot(history.history['class_res_accuracy'], label='train accuracy')\n",
        "plt.plot(history.history['val_class_res_accuracy'],label='val accuracy')\n",
        "plt.title('Classification accuracy')\n",
        "plt.xlabel('Epochs'); plt.ylabel('Accuracy')\n",
        "plt.legend(); plt.show()"
      ]
    },
    {
      "cell_type": "markdown",
      "metadata": {
        "id": "M1ysLPqLbms6"
      },
      "source": [
        "For regression we see almost the constant value for its mae reached after a few epochs, for classification the accuracy is chaotic"
      ]
    },
    {
      "cell_type": "code",
      "execution_count": null,
      "metadata": {
        "id": "IDazu5JkXtK7"
      },
      "outputs": [],
      "source": [
        "plt.figure(figsize=(10, 5))\n",
        "plt.plot(train_rmse,  label='train RMSE')\n",
        "plt.plot(val_rmse,label='val RMSE')\n",
        "plt.title('Regression Loss (RMSE)')\n",
        "plt.xlabel('Epochs'); plt.ylabel('RMSE')\n",
        "plt.legend(); plt.show()\n",
        "\n",
        "plt.figure(figsize=(10, 5))\n",
        "plt.plot(history.history['class_res_loss'],   label='train BCE')\n",
        "plt.plot(history.history['val_class_res_loss'],  label='val  BCE')\n",
        "plt.title('Classification Loss')\n",
        "plt.xlabel('Epochs'); plt.ylabel('BCE')\n",
        "plt.legend(); plt.show()"
      ]
    },
    {
      "cell_type": "markdown",
      "metadata": {
        "id": "5TFPFNxKaEpZ"
      },
      "source": [
        "So, for classification we see some loss fall, while for regression it reached its plato too soon"
      ]
    }
  ],
  "metadata": {
    "accelerator": "GPU",
    "colab": {
      "collapsed_sections": [
        "rBNavV5VqiQY",
        "YC31sHiIhNKJ",
        "h91mD07HOwjv"
      ],
      "gpuType": "T4",
      "provenance": []
    },
    "kernelspec": {
      "display_name": "Python 3",
      "name": "python3"
    },
    "language_info": {
      "name": "python"
    }
  },
  "nbformat": 4,
  "nbformat_minor": 0
}